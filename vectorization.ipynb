{
 "cells": [
  {
   "cell_type": "code",
   "execution_count": 1,
   "id": "ac05dabd",
   "metadata": {},
   "outputs": [],
   "source": [
    "import pandas as pd\n",
    "import numpy as np\n",
    "import matplotlib.pyplot as plt\n",
    "import nltk\n",
    "from sklearn.feature_extraction.text import CountVectorizer\n",
    "from nltk.corpus import stopwords\n",
    "from nltk import corpus\n",
    "from nltk import tokenize\n",
    "cv=CountVectorizer()\n",
    "import os\n",
    "import matplotlib.pyplot as plt\n",
    "import string\n",
    "from nltk.tokenize import RegexpTokenizer\n",
    "from nltk.stem import WordNetLemmatizer\n",
    "from nltk.stem.porter import PorterStemmer\n",
    "\n",
    "from sklearn.feature_extraction.text import TfidfTransformer, CountVectorizer, TfidfVectorizer\n",
    "from sklearn.metrics import confusion_matrix\n",
    "from sklearn.model_selection import train_test_split\n",
    "\n",
    "from nltk.stem.porter import PorterStemmer\n",
    "import nltk\n",
    "import re, string\n",
    "from nltk.corpus import stopwords"
   ]
  },
  {
   "cell_type": "markdown",
   "id": "d706f847",
   "metadata": {},
   "source": [
    "# read from dataset¶"
   ]
  },
  {
   "cell_type": "code",
   "execution_count": 2,
   "id": "d10b4510",
   "metadata": {},
   "outputs": [
    {
     "data": {
      "text/html": [
       "<div>\n",
       "<style scoped>\n",
       "    .dataframe tbody tr th:only-of-type {\n",
       "        vertical-align: middle;\n",
       "    }\n",
       "\n",
       "    .dataframe tbody tr th {\n",
       "        vertical-align: top;\n",
       "    }\n",
       "\n",
       "    .dataframe thead th {\n",
       "        text-align: right;\n",
       "    }\n",
       "</style>\n",
       "<table border=\"1\" class=\"dataframe\">\n",
       "  <thead>\n",
       "    <tr style=\"text-align: right;\">\n",
       "      <th></th>\n",
       "      <th>comments</th>\n",
       "      <th>label</th>\n",
       "    </tr>\n",
       "  </thead>\n",
       "  <tbody>\n",
       "    <tr>\n",
       "      <th>0</th>\n",
       "      <td>yeah I got 2 backups for all that. I just hate...</td>\n",
       "      <td>0</td>\n",
       "    </tr>\n",
       "    <tr>\n",
       "      <th>1</th>\n",
       "      <td>I hate using my BB  but love my iPhone. Haven'...</td>\n",
       "      <td>0</td>\n",
       "    </tr>\n",
       "    <tr>\n",
       "      <th>2</th>\n",
       "      <td>Get fucking real dude.</td>\n",
       "      <td>1</td>\n",
       "    </tr>\n",
       "    <tr>\n",
       "      <th>3</th>\n",
       "      <td>She is as dirty as they come  and that crook ...</td>\n",
       "      <td>1</td>\n",
       "    </tr>\n",
       "    <tr>\n",
       "      <th>4</th>\n",
       "      <td>why did you fuck it up. I could do it all day...</td>\n",
       "      <td>1</td>\n",
       "    </tr>\n",
       "  </tbody>\n",
       "</table>\n",
       "</div>"
      ],
      "text/plain": [
       "                                            comments  label\n",
       "0  yeah I got 2 backups for all that. I just hate...      0\n",
       "1  I hate using my BB  but love my iPhone. Haven'...      0\n",
       "2                             Get fucking real dude.      1\n",
       "3   She is as dirty as they come  and that crook ...      1\n",
       "4   why did you fuck it up. I could do it all day...      1"
      ]
     },
     "execution_count": 2,
     "metadata": {},
     "output_type": "execute_result"
    }
   ],
   "source": [
    "df=pd.read_csv('new_data.csv')\n",
    "df.head()"
   ]
  },
  {
   "cell_type": "code",
   "execution_count": 3,
   "id": "559b1143",
   "metadata": {},
   "outputs": [],
   "source": [
    "shape=df.shape"
   ]
  },
  {
   "cell_type": "code",
   "execution_count": 4,
   "id": "1398f486",
   "metadata": {},
   "outputs": [
    {
     "name": "stdout",
     "output_type": "stream",
     "text": [
      "(8817, 2)\n"
     ]
    }
   ],
   "source": [
    "print(shape)"
   ]
  },
  {
   "cell_type": "code",
   "execution_count": 5,
   "id": "cd9ffe77",
   "metadata": {},
   "outputs": [],
   "source": [
    "DataType=df.dtypes"
   ]
  },
  {
   "cell_type": "code",
   "execution_count": 6,
   "id": "38acdea3",
   "metadata": {},
   "outputs": [
    {
     "name": "stdout",
     "output_type": "stream",
     "text": [
      "comments    object\n",
      "label        int64\n",
      "dtype: object\n"
     ]
    }
   ],
   "source": [
    "print(DataType)"
   ]
  },
  {
   "cell_type": "code",
   "execution_count": 7,
   "id": "e7f34f69",
   "metadata": {},
   "outputs": [],
   "source": [
    "X=df.comments"
   ]
  },
  {
   "cell_type": "code",
   "execution_count": 8,
   "id": "310869f0",
   "metadata": {},
   "outputs": [],
   "source": [
    "y=df.label"
   ]
  },
  {
   "cell_type": "code",
   "execution_count": 9,
   "id": "e99eedab",
   "metadata": {},
   "outputs": [
    {
     "name": "stdout",
     "output_type": "stream",
     "text": [
      "0       yeah I got 2 backups for all that. I just hate...\n",
      "1       I hate using my BB  but love my iPhone. Haven'...\n",
      "2                                  Get fucking real dude.\n",
      "3        She is as dirty as they come  and that crook ...\n",
      "4        why did you fuck it up. I could do it all day...\n",
      "                              ...                        \n",
      "8812    no caffiene would kick my ass too - I'm addict...\n",
      "8813    Now I'm hungry.  Damn you people and your midn...\n",
      "8814    i've taken one also. people just piss me off m...\n",
      "8815    That  too! Or even being able to park pulling ...\n",
      "8816                          . . . HE'S FUCKING HIMSELF!\n",
      "Name: comments, Length: 8817, dtype: object\n"
     ]
    }
   ],
   "source": [
    "#output the  comments \n",
    "print(X)"
   ]
  },
  {
   "cell_type": "code",
   "execution_count": 10,
   "id": "3ec275a6",
   "metadata": {},
   "outputs": [
    {
     "name": "stdout",
     "output_type": "stream",
     "text": [
      "0       0\n",
      "1       0\n",
      "2       1\n",
      "3       1\n",
      "4       1\n",
      "       ..\n",
      "8812    0\n",
      "8813    0\n",
      "8814    0\n",
      "8815    0\n",
      "8816    1\n",
      "Name: label, Length: 8817, dtype: int64\n"
     ]
    }
   ],
   "source": [
    "print(y)"
   ]
  },
  {
   "cell_type": "code",
   "execution_count": 11,
   "id": "c312ac48",
   "metadata": {},
   "outputs": [
    {
     "name": "stdout",
     "output_type": "stream",
     "text": [
      "(8817,)\n"
     ]
    }
   ],
   "source": [
    "print(X.shape)"
   ]
  },
  {
   "cell_type": "code",
   "execution_count": 12,
   "id": "5a91856f",
   "metadata": {},
   "outputs": [
    {
     "name": "stdout",
     "output_type": "stream",
     "text": [
      "(8817,)\n"
     ]
    }
   ],
   "source": [
    "print(y.shape)"
   ]
  },
  {
   "cell_type": "code",
   "execution_count": 13,
   "id": "507e2a29",
   "metadata": {},
   "outputs": [
    {
     "data": {
      "text/plain": [
       "<AxesSubplot:>"
      ]
     },
     "execution_count": 13,
     "metadata": {},
     "output_type": "execute_result"
    },
    {
     "data": {
      "image/png": "[encoded data removed]",
      "text/plain": [
       "<Figure size 432x288 with 1 Axes>"
      ]
     },
     "metadata": {
      "needs_background": "light"
     },
     "output_type": "display_data"
    }
   ],
   "source": [
    "df['label'].value_counts().sort_index().plot.bar()"
   ]
  },
  {
   "cell_type": "code",
   "execution_count": 14,
   "id": "8fa50126",
   "metadata": {},
   "outputs": [
    {
     "data": {
      "text/html": [
       "<div>\n",
       "<style scoped>\n",
       "    .dataframe tbody tr th:only-of-type {\n",
       "        vertical-align: middle;\n",
       "    }\n",
       "\n",
       "    .dataframe tbody tr th {\n",
       "        vertical-align: top;\n",
       "    }\n",
       "\n",
       "    .dataframe thead th {\n",
       "        text-align: right;\n",
       "    }\n",
       "</style>\n",
       "<table border=\"1\" class=\"dataframe\">\n",
       "  <thead>\n",
       "    <tr style=\"text-align: right;\">\n",
       "      <th></th>\n",
       "      <th>comments</th>\n",
       "      <th>tokenized-words</th>\n",
       "    </tr>\n",
       "  </thead>\n",
       "  <tbody>\n",
       "    <tr>\n",
       "      <th>0</th>\n",
       "      <td>yeah I got 2 backups for all that. I just hate...</td>\n",
       "      <td>[yeah, i, got, 2, backups, for, all, that, i, ...</td>\n",
       "    </tr>\n",
       "    <tr>\n",
       "      <th>1</th>\n",
       "      <td>I hate using my BB  but love my iPhone. Haven'...</td>\n",
       "      <td>[i, hate, using, my, bb, but, love, my, iphone...</td>\n",
       "    </tr>\n",
       "    <tr>\n",
       "      <th>2</th>\n",
       "      <td>Get fucking real dude.</td>\n",
       "      <td>[get, fucking, real, dude]</td>\n",
       "    </tr>\n",
       "    <tr>\n",
       "      <th>3</th>\n",
       "      <td>She is as dirty as they come  and that crook ...</td>\n",
       "      <td>[she, is, as, dirty, as, they, come, and, that...</td>\n",
       "    </tr>\n",
       "    <tr>\n",
       "      <th>4</th>\n",
       "      <td>why did you fuck it up. I could do it all day...</td>\n",
       "      <td>[why, did, you, fuck, it, up, i, could, do, it...</td>\n",
       "    </tr>\n",
       "    <tr>\n",
       "      <th>5</th>\n",
       "      <td>Dude they dont finish enclosing the fucking s...</td>\n",
       "      <td>[dude, they, dont, finish, enclosing, the, fuc...</td>\n",
       "    </tr>\n",
       "    <tr>\n",
       "      <th>6</th>\n",
       "      <td>WTF are you talking about Men? No men thats n...</td>\n",
       "      <td>[wtf, are, you, talking, about, men, no, men, ...</td>\n",
       "    </tr>\n",
       "    <tr>\n",
       "      <th>7</th>\n",
       "      <td>Ill save you the trouble sister. Here comes a ...</td>\n",
       "      <td>[ill, save, you, the, trouble, sister, here, c...</td>\n",
       "    </tr>\n",
       "    <tr>\n",
       "      <th>8</th>\n",
       "      <td>Im dead serious.Real athletes never cheat don...</td>\n",
       "      <td>[im, dead, serious, real, athletes, never, che...</td>\n",
       "    </tr>\n",
       "    <tr>\n",
       "      <th>9</th>\n",
       "      <td>wow lol sounds like a lot of piss then hehehe</td>\n",
       "      <td>[wow, lol, sounds, like, a, lot, of, piss, the...</td>\n",
       "    </tr>\n",
       "  </tbody>\n",
       "</table>\n",
       "</div>"
      ],
      "text/plain": [
       "                                            comments  \\\n",
       "0  yeah I got 2 backups for all that. I just hate...   \n",
       "1  I hate using my BB  but love my iPhone. Haven'...   \n",
       "2                             Get fucking real dude.   \n",
       "3   She is as dirty as they come  and that crook ...   \n",
       "4   why did you fuck it up. I could do it all day...   \n",
       "5   Dude they dont finish enclosing the fucking s...   \n",
       "6   WTF are you talking about Men? No men thats n...   \n",
       "7  Ill save you the trouble sister. Here comes a ...   \n",
       "8   Im dead serious.Real athletes never cheat don...   \n",
       "9      wow lol sounds like a lot of piss then hehehe   \n",
       "\n",
       "                                     tokenized-words  \n",
       "0  [yeah, i, got, 2, backups, for, all, that, i, ...  \n",
       "1  [i, hate, using, my, bb, but, love, my, iphone...  \n",
       "2                         [get, fucking, real, dude]  \n",
       "3  [she, is, as, dirty, as, they, come, and, that...  \n",
       "4  [why, did, you, fuck, it, up, i, could, do, it...  \n",
       "5  [dude, they, dont, finish, enclosing, the, fuc...  \n",
       "6  [wtf, are, you, talking, about, men, no, men, ...  \n",
       "7  [ill, save, you, the, trouble, sister, here, c...  \n",
       "8  [im, dead, serious, real, athletes, never, che...  \n",
       "9  [wow, lol, sounds, like, a, lot, of, piss, the...  "
      ]
     },
     "execution_count": 14,
     "metadata": {},
     "output_type": "execute_result"
    }
   ],
   "source": [
    "# tokenizing\n",
    "tokenizer=RegexpTokenizer(r'\\w+')\n",
    "df=pd.read_csv('new_data.csv')\n",
    "df.head()\n",
    "df['tokenized-words'] = df['comments'].apply(lambda x: tokenizer.tokenize(x.lower()))\n",
    "df[['comments','tokenized-words'] ].head(10)"
   ]
  },
  {
   "cell_type": "code",
   "execution_count": 19,
   "id": "86530551",
   "metadata": {},
   "outputs": [
    {
     "data": {
      "text/html": [
       "<div>\n",
       "<style scoped>\n",
       "    .dataframe tbody tr th:only-of-type {\n",
       "        vertical-align: middle;\n",
       "    }\n",
       "\n",
       "    .dataframe tbody tr th {\n",
       "        vertical-align: top;\n",
       "    }\n",
       "\n",
       "    .dataframe thead th {\n",
       "        text-align: right;\n",
       "    }\n",
       "</style>\n",
       "<table border=\"1\" class=\"dataframe\">\n",
       "  <thead>\n",
       "    <tr style=\"text-align: right;\">\n",
       "      <th></th>\n",
       "      <th>comments</th>\n",
       "      <th>stopwords-removed</th>\n",
       "    </tr>\n",
       "  </thead>\n",
       "  <tbody>\n",
       "    <tr>\n",
       "      <th>0</th>\n",
       "      <td>yeah I got 2 backups for all that. I just hate...</td>\n",
       "      <td>yeah got 2 backups that. hate happen. struggli...</td>\n",
       "    </tr>\n",
       "    <tr>\n",
       "      <th>1</th>\n",
       "      <td>I hate using my BB  but love my iPhone. Haven'...</td>\n",
       "      <td>hate using BB love iPhone. Haven't tried new B...</td>\n",
       "    </tr>\n",
       "    <tr>\n",
       "      <th>2</th>\n",
       "      <td>Get fucking real dude.</td>\n",
       "      <td>Get fucking real dude.</td>\n",
       "    </tr>\n",
       "    <tr>\n",
       "      <th>3</th>\n",
       "      <td>She is as dirty as they come  and that crook ...</td>\n",
       "      <td>She dirty come crook Rengel Dems fucking corru...</td>\n",
       "    </tr>\n",
       "    <tr>\n",
       "      <th>4</th>\n",
       "      <td>why did you fuck it up. I could do it all day...</td>\n",
       "      <td>fuck up. could day too. Let's hour. Ping later...</td>\n",
       "    </tr>\n",
       "    <tr>\n",
       "      <th>5</th>\n",
       "      <td>Dude they dont finish enclosing the fucking s...</td>\n",
       "      <td>Dude dont finish enclosing fucking showers. ha...</td>\n",
       "    </tr>\n",
       "    <tr>\n",
       "      <th>6</th>\n",
       "      <td>WTF are you talking about Men? No men thats n...</td>\n",
       "      <td>WTF talking Men? No men thats menage that's gay.</td>\n",
       "    </tr>\n",
       "    <tr>\n",
       "      <th>7</th>\n",
       "      <td>Ill save you the trouble sister. Here comes a ...</td>\n",
       "      <td>Ill save trouble sister. Here comes big ol fuc...</td>\n",
       "    </tr>\n",
       "    <tr>\n",
       "      <th>8</th>\n",
       "      <td>Im dead serious.Real athletes never cheat don...</td>\n",
       "      <td>dead serious.Real athletes never cheat even ap...</td>\n",
       "    </tr>\n",
       "    <tr>\n",
       "      <th>9</th>\n",
       "      <td>wow lol sounds like a lot of piss then hehehe</td>\n",
       "      <td>sounds like lot piss hehehe</td>\n",
       "    </tr>\n",
       "  </tbody>\n",
       "</table>\n",
       "</div>"
      ],
      "text/plain": [
       "                                            comments  \\\n",
       "0  yeah I got 2 backups for all that. I just hate...   \n",
       "1  I hate using my BB  but love my iPhone. Haven'...   \n",
       "2                             Get fucking real dude.   \n",
       "3   She is as dirty as they come  and that crook ...   \n",
       "4   why did you fuck it up. I could do it all day...   \n",
       "5   Dude they dont finish enclosing the fucking s...   \n",
       "6   WTF are you talking about Men? No men thats n...   \n",
       "7  Ill save you the trouble sister. Here comes a ...   \n",
       "8   Im dead serious.Real athletes never cheat don...   \n",
       "9      wow lol sounds like a lot of piss then hehehe   \n",
       "\n",
       "                                   stopwords-removed  \n",
       "0  yeah got 2 backups that. hate happen. struggli...  \n",
       "1  hate using BB love iPhone. Haven't tried new B...  \n",
       "2                             Get fucking real dude.  \n",
       "3  She dirty come crook Rengel Dems fucking corru...  \n",
       "4  fuck up. could day too. Let's hour. Ping later...  \n",
       "5  Dude dont finish enclosing fucking showers. ha...  \n",
       "6   WTF talking Men? No men thats menage that's gay.  \n",
       "7  Ill save trouble sister. Here comes big ol fuc...  \n",
       "8  dead serious.Real athletes never cheat even ap...  \n",
       "9                        sounds like lot piss hehehe  "
      ]
     },
     "execution_count": 19,
     "metadata": {},
     "output_type": "execute_result"
    }
   ],
   "source": [
    "#Stopword \n",
    "stop_words = stopwords.words('english') + ['I', 'is', 'they', 'Im', 'she','as','that' 'could ','he','are','wow','lol']\n",
    "# apply the same code as above but assign\n",
    "# a new column to see the differences\n",
    "df['stopwords-removed'] = df['comments'].apply(lambda x: ' '.join([word for word in x.split() if word not in (stop_words)]))\n",
    "df[['comments','stopwords-removed'] ].head(10)"
   ]
  },
  {
   "cell_type": "code",
   "execution_count": 20,
   "id": "093c9ac8",
   "metadata": {},
   "outputs": [],
   "source": [
    "df = pd.read_csv('new_data.csv')\n",
    "stop_words = stopwords.words(\"english\")\n",
    "wordnet = WordNetLemmatizer()\n",
    "def text_preproc(x):\n",
    "  x = x.lower()\n",
    "  x = ' '.join([word for word in x.split(' ') if word not in stop_words])\n",
    "  x = x.encode('ascii', 'ignore').decode()\n",
    "  x = re.sub(r'https*\\S+', ' ', x)\n",
    "  x = re.sub(r'@\\S+', ' ', x)\n",
    "  x = re.sub(r'#\\S+', ' ', x)\n",
    "  x = re.sub(r'\\'\\w+', '', x)\n",
    "  x = re.sub('[%s]' % re.escape(string.punctuation), ' ', x)\n",
    "  x = re.sub(r'\\w*\\d+\\w*', '', x)\n",
    "  x = re.sub(r'\\s{2,}', ' ', x)\n",
    "  return x"
   ]
  },
  {
   "cell_type": "code",
   "execution_count": 23,
   "id": "01393e1c",
   "metadata": {},
   "outputs": [
    {
     "data": {
      "text/html": [
       "<div>\n",
       "<style scoped>\n",
       "    .dataframe tbody tr th:only-of-type {\n",
       "        vertical-align: middle;\n",
       "    }\n",
       "\n",
       "    .dataframe tbody tr th {\n",
       "        vertical-align: top;\n",
       "    }\n",
       "\n",
       "    .dataframe thead th {\n",
       "        text-align: right;\n",
       "    }\n",
       "</style>\n",
       "<table border=\"1\" class=\"dataframe\">\n",
       "  <thead>\n",
       "    <tr style=\"text-align: right;\">\n",
       "      <th></th>\n",
       "      <th>comments</th>\n",
       "      <th>clean_text</th>\n",
       "    </tr>\n",
       "  </thead>\n",
       "  <tbody>\n",
       "    <tr>\n",
       "      <th>0</th>\n",
       "      <td>yeah I got 2 backups for all that. I just hate...</td>\n",
       "      <td>yeah got backups that hate happen strugglin we...</td>\n",
       "    </tr>\n",
       "    <tr>\n",
       "      <th>1</th>\n",
       "      <td>I hate using my BB  but love my iPhone. Haven'...</td>\n",
       "      <td>hate using bb love iphone tried new bb bb prov...</td>\n",
       "    </tr>\n",
       "    <tr>\n",
       "      <th>2</th>\n",
       "      <td>Get fucking real dude.</td>\n",
       "      <td>get fucking real dude</td>\n",
       "    </tr>\n",
       "    <tr>\n",
       "      <th>3</th>\n",
       "      <td>She is as dirty as they come  and that crook ...</td>\n",
       "      <td>dirty come crook rengel dems fucking corrupt ...</td>\n",
       "    </tr>\n",
       "    <tr>\n",
       "      <th>4</th>\n",
       "      <td>why did you fuck it up. I could do it all day...</td>\n",
       "      <td>fuck up could day too let hour ping later sch...</td>\n",
       "    </tr>\n",
       "    <tr>\n",
       "      <th>...</th>\n",
       "      <td>...</td>\n",
       "      <td>...</td>\n",
       "    </tr>\n",
       "    <tr>\n",
       "      <th>95</th>\n",
       "      <td>http://twitpic.com/sbrn - we hate you phil. do...</td>\n",
       "      <td>hate phil doesnt tv want yet</td>\n",
       "    </tr>\n",
       "    <tr>\n",
       "      <th>96</th>\n",
       "      <td>cute video lexi u hve some of the of the werid...</td>\n",
       "      <td>cute video lexi u hve weridest cutest little t...</td>\n",
       "    </tr>\n",
       "    <tr>\n",
       "      <th>97</th>\n",
       "      <td>Fuck the pics! @giove_dea WE WANT VIDS!!</td>\n",
       "      <td>fuck pics want vids</td>\n",
       "    </tr>\n",
       "    <tr>\n",
       "      <th>98</th>\n",
       "      <td>Hard to play because it is damn fucking awful</td>\n",
       "      <td>hard play damn fucking awful</td>\n",
       "    </tr>\n",
       "    <tr>\n",
       "      <th>99</th>\n",
       "      <td>you got that right! People stealing others' ge...</td>\n",
       "      <td>got right people stealing others generators st...</td>\n",
       "    </tr>\n",
       "  </tbody>\n",
       "</table>\n",
       "<p>100 rows × 2 columns</p>\n",
       "</div>"
      ],
      "text/plain": [
       "                                             comments  \\\n",
       "0   yeah I got 2 backups for all that. I just hate...   \n",
       "1   I hate using my BB  but love my iPhone. Haven'...   \n",
       "2                              Get fucking real dude.   \n",
       "3    She is as dirty as they come  and that crook ...   \n",
       "4    why did you fuck it up. I could do it all day...   \n",
       "..                                                ...   \n",
       "95  http://twitpic.com/sbrn - we hate you phil. do...   \n",
       "96  cute video lexi u hve some of the of the werid...   \n",
       "97           Fuck the pics! @giove_dea WE WANT VIDS!!   \n",
       "98      Hard to play because it is damn fucking awful   \n",
       "99  you got that right! People stealing others' ge...   \n",
       "\n",
       "                                           clean_text  \n",
       "0   yeah got backups that hate happen strugglin we...  \n",
       "1   hate using bb love iphone tried new bb bb prov...  \n",
       "2                              get fucking real dude   \n",
       "3    dirty come crook rengel dems fucking corrupt ...  \n",
       "4    fuck up could day too let hour ping later sch...  \n",
       "..                                                ...  \n",
       "95                      hate phil doesnt tv want yet   \n",
       "96  cute video lexi u hve weridest cutest little t...  \n",
       "97                               fuck pics want vids   \n",
       "98                       hard play damn fucking awful  \n",
       "99  got right people stealing others generators st...  \n",
       "\n",
       "[100 rows x 2 columns]"
      ]
     },
     "execution_count": 23,
     "metadata": {},
     "output_type": "execute_result"
    }
   ],
   "source": [
    "df['clean_text'] = df.comments.apply(text_preproc)\n",
    "df[['comments','clean_text'] ].head(100)"
   ]
  },
  {
   "cell_type": "markdown",
   "id": "78efdd54",
   "metadata": {},
   "source": [
    "# Vectorization using TFIDF "
   ]
  },
  {
   "cell_type": "code",
   "execution_count": 43,
   "id": "aa395344",
   "metadata": {},
   "outputs": [],
   "source": [
    "tfIdfVectorizer=TfidfVectorizer(use_idf=True, sublinear_tf=True)\n",
    "tfIdf = tfIdfVectorizer.fit_transform(df.clean_text.tolist())"
   ]
  },
  {
   "cell_type": "code",
   "execution_count": 44,
   "id": "a16e6bed",
   "metadata": {},
   "outputs": [
    {
     "name": "stdout",
     "output_type": "stream",
     "text": [
      "  (0, 11043)\t0.28806791448862323\n",
      "  (0, 4827)\t0.3699721080240784\n",
      "  (0, 7476)\t0.24518946792597507\n",
      "  (0, 12015)\t0.28171953216050166\n",
      "  (0, 10538)\t0.44648840131426876\n",
      "  (0, 4840)\t0.3476270798220085\n",
      "  (0, 4874)\t0.12245756768481002\n",
      "  (0, 10979)\t0.1807691034974776\n",
      "  (0, 710)\t0.4272116793660319\n",
      "  (0, 4557)\t0.21434903073024084\n",
      "  (0, 12382)\t0.21054362062477952\n",
      "  (1, 6980)\t0.30207916197488205\n",
      "  (1, 8103)\t0.2500939958079041\n",
      "  (1, 4409)\t0.13836879539830738\n",
      "  (1, 2305)\t0.316848925446943\n",
      "  (1, 8563)\t0.316848925446943\n",
      "  (1, 7327)\t0.18707999541491932\n",
      "  (1, 11351)\t0.24468754201870602\n",
      "  (1, 5582)\t0.22868285625722307\n",
      "  (1, 6439)\t0.16006595664455386\n",
      "  (1, 842)\t0.6221629064754077\n",
      "  (1, 11691)\t0.2399807826117633\n",
      "  (1, 4874)\t0.09382660158326173\n",
      "  (2, 3210)\t0.5412983375189692\n",
      "  (2, 8789)\t0.6260505717779341\n",
      "  :\t:\n",
      "  (8813, 10033)\t0.49883295056656113\n",
      "  (8813, 8000)\t0.2754519279104729\n",
      "  (8813, 2595)\t0.15903245131349972\n",
      "  (8814, 10780)\t0.5062926442177959\n",
      "  (8814, 8823)\t0.5206699465287528\n",
      "  (8814, 290)\t0.3787126130573902\n",
      "  (8814, 8000)\t0.3170728899938627\n",
      "  (8814, 7636)\t0.2918713090492537\n",
      "  (8814, 8153)\t0.3787126130573902\n",
      "  (8815, 8594)\t0.3590068800264565\n",
      "  (8815, 8593)\t0.32397966733472905\n",
      "  (8815, 712)\t0.31701002797687317\n",
      "  (8815, 7874)\t0.32397966733472905\n",
      "  (8815, 4100)\t0.287453157298008\n",
      "  (8815, 19)\t0.287453157298008\n",
      "  (8815, 1592)\t0.2530186259687742\n",
      "  (8815, 1117)\t0.31701002797687317\n",
      "  (8815, 8756)\t0.2673421007036293\n",
      "  (8815, 3559)\t0.18615164453655617\n",
      "  (8815, 921)\t0.287453157298008\n",
      "  (8815, 11210)\t0.18019958548332587\n",
      "  (8815, 4874)\t0.09846416879082164\n",
      "  (8816, 5045)\t0.8047629134482742\n",
      "  (8816, 4908)\t0.47850392910776984\n",
      "  (8816, 4215)\t0.35127004279709356\n"
     ]
    }
   ],
   "source": [
    "print(tfIdf)"
   ]
  },
  {
   "cell_type": "code",
   "execution_count": 46,
   "id": "0aee4c2f",
   "metadata": {},
   "outputs": [
    {
     "name": "stdout",
     "output_type": "stream",
     "text": [
      "(8817, 12509)\n"
     ]
    }
   ],
   "source": [
    "print(tfIdf.shape) # means total rows  8817 with 12509 features"
   ]
  },
  {
   "cell_type": "code",
   "execution_count": 47,
   "id": "ad5d71bf",
   "metadata": {},
   "outputs": [
    {
     "name": "stdout",
     "output_type": "stream",
     "text": [
      "           TF-IDF\n",
      "real     0.626051\n",
      "dude     0.541298\n",
      "get      0.396996\n",
      "fucking  0.396801\n",
      "aaaagh   0.000000\n"
     ]
    }
   ],
   "source": [
    "df2 = pd.DataFrame(tfIdf[2].T.todense(), index=tfIdfVectorizer.get_feature_names(), columns=[\"TF-IDF\"]) #for second entry only(just to check if working)\n",
    "df2 = df2.sort_values('TF-IDF', ascending=False)\n",
    "print (df2.head(5))"
   ]
  },
  {
   "cell_type": "code",
   "execution_count": 48,
   "id": "fe8cb44a",
   "metadata": {},
   "outputs": [],
   "source": [
    "def display_scores(vectorizer, tfidf_result):\n",
    "    scores = zip(vectorizer.get_feature_names(),\n",
    "                 np.asarray(tfidf_result.sum(axis=0)).ravel())\n",
    "    sorted_scores = sorted(scores, key=lambda x: x[1], reverse=True)\n",
    "    i=0\n",
    "    for item in sorted_scores:\n",
    "        print (\"{0:50} Score: {1}\".format(item[0], item[1]))\n",
    "        i = i+1\n",
    "        if (i > 25):\n",
    "          break"
   ]
  },
  {
   "cell_type": "code",
   "execution_count": 49,
   "id": "7f427547",
   "metadata": {},
   "outputs": [
    {
     "name": "stdout",
     "output_type": "stream",
     "text": [
      "hate                                               Score: 307.85950350266415\n",
      "damn                                               Score: 301.16670771141816\n",
      "sucks                                              Score: 236.03727714271358\n",
      "ass                                                Score: 191.96206158987408\n",
      "fuck                                               Score: 182.69039674650975\n",
      "lol                                                Score: 156.49389635173748\n",
      "fucking                                            Score: 126.2871284503973\n",
      "that                                               Score: 124.31778414459475\n",
      "like                                               Score: 116.48122937344489\n",
      "get                                                Score: 111.96804682604623\n",
      "it                                                 Score: 100.27507152075806\n",
      "bitch                                              Score: 95.36099949346517\n",
      "know                                               Score: 90.64122191858773\n",
      "you                                                Score: 89.18019965408853\n",
      "good                                               Score: 82.95710406424037\n",
      "fat                                                Score: 81.67606856746731\n",
      "gay                                                Score: 80.16728840530017\n",
      "one                                                Score: 79.08059718609942\n",
      "yeah                                               Score: 77.87684683011011\n",
      "oh                                                 Score: 77.27965969551657\n",
      "well                                               Score: 73.69458014672735\n",
      "love                                               Score: 71.84866611643096\n",
      "right                                              Score: 69.8718665639154\n",
      "time                                               Score: 66.59405942015385\n",
      "man                                                Score: 66.16496548341098\n",
      "really                                             Score: 64.26471795321167\n"
     ]
    },
    {
     "name": "stderr",
     "output_type": "stream",
     "text": [
      "c:\\python37\\lib\\site-packages\\sklearn\\utils\\deprecation.py:87: FutureWarning: Function get_feature_names is deprecated; get_feature_names is deprecated in 1.0 and will be removed in 1.2. Please use get_feature_names_out instead.\n",
      "  warnings.warn(msg, category=FutureWarning)\n"
     ]
    }
   ],
   "source": [
    "#top 25 words\n",
    "display_scores(tfIdfVectorizer, tfIdf)"
   ]
  },
  {
   "cell_type": "code",
   "execution_count": null,
   "id": "c9d606d1",
   "metadata": {},
   "outputs": [],
   "source": []
  }
 ],
 "metadata": {
  "kernelspec": {
   "display_name": "Python 3 (ipykernel)",
   "language": "python",
   "name": "python3"
  },
  "language_info": {
   "codemirror_mode": {
    "name": "ipython",
    "version": 3
   },
   "file_extension": ".py",
   "mimetype": "text/x-python",
   "name": "python",
   "nbconvert_exporter": "python",
   "pygments_lexer": "ipython3",
   "version": "3.7.6"
  }
 },
 "nbformat": 4,
 "nbformat_minor": 5
}
